{
 "metadata": {
  "name": "",
  "signature": "sha256:f22cec94ffb9731726f193c2572deb1eb7454a4ce689af56b2e84c5015e26a63"
 },
 "nbformat": 3,
 "nbformat_minor": 0,
 "worksheets": [
  {
   "cells": [
    {
     "cell_type": "heading",
     "level": 2,
     "metadata": {},
     "source": [
      "Section 4.4: ML applied to Gaussian Mixtures: The Expectation Maximization Algorithm"
     ]
    },
    {
     "cell_type": "markdown",
     "metadata": {},
     "source": [
      "Likelihood can quickly become so complex that it doesn't have an analytic solution.  However, one complex model that does still have a simple solution is a mixture of Gaussians."
     ]
    },
    {
     "cell_type": "markdown",
     "metadata": {},
     "source": [
      "Assume that the likelihood for a datum $x_i$ is given by: <br />\n",
      "$p(x_i|\\theta) = \\Sigma_{j=1}^M \\alpha_j \\mathcal{N}(\\mu_j, \\sigma_j)$  <br />\n",
      "In other words, the probability is given by a sum of Gaussians with different normalization factors.  To be a proper pdf, it must be true that <br />\n",
      "$\\Sigma_{j=1}^M \\alpha_j = 1.$"
     ]
    },
    {
     "cell_type": "markdown",
     "metadata": {},
     "source": [
      "How do we compute the log likelihood?  Go back to the definition of likelihood: <br />\n",
      "$L=p(\\{x_i\\}| \\theta)$ <br />\n",
      "where $\\theta$ is a vector of parameters. So  <br />\n",
      "$L=\\prod_{i=1}^N (\\Sigma_{i=1}^M \\alpha_j e^{\\frac{-(x_i-\\mu_j)^2}{2\\sigma_j^2}} )$  <br />\n",
      " <br />\n",
      "Since $\\log{a\\times b} = \\log(a) +\\log(b)$ <br />\n",
      "$ln\\ L = \\Sigma_{i=1}^N ln\\ [\\Sigma_{j=1}^M\\alpha_j e^{\\frac{-(x_i-\\mu_j)^2}{2\\sigma_j^2}}  ]$ <br />\n",
      "<br />\n",
      "How do we minimize this function?  An analytical approach would result in $3M-1$ nonlinear equations.  A numerical approach could be followed with the Levenberg-Marquardt algorithm or MCMC, both of which will be discussed later on in the book.  However, here they suggest that an approach based on \"hidden variables\" called the Expectation Maximization (EM) Algorithm will provide a quicker solution.<br />\n",
      "\n",
      "<br />\n",
      "They begin by introducing the concept of hidden variables and class labels. I think they're just saying - suppose you can associate each variable $x_i$ with the Gaussian $(\\mathcal{N}(\\mu_j,\\sigma_j))$ that actually generated it.  How would you find the correct Gaussian? Well, you can use Bayes' rule to find the probability that a given variable $x_i$ is associated with Gaussian $j$.<br />\n",
      "<br />\n",
      "Reminder of what Bayes' theorem says:<br />\n",
      "$P(A|B) = \\frac{P(B|A)P(A)}{P(B)}$\n",
      "<br />\n",
      "Applied here:<br />\n",
      "$p(j|x_i) = \\frac{p(x_i|j) p(j)}{p(x_i)} = \\frac{\\alpha_j \\mathcal{N}(\\mu_j, \\alpha_j)}{\\Sigma_{j=1}^M \\alpha_j \\mathcal{N}(\\mu_j, \\sigma_j)}$ <br />\n",
      "(Where did p(j) go?)"
     ]
    },
    {
     "cell_type": "markdown",
     "metadata": {},
     "source": [
      "After that calculation seems to go nowhere, they transition back to the log likelihood, and generalize the equation, replacing the normal distribution with a generic $p_j(x_i|\\theta)$, where they assume but don't notate the fact that $\\theta$ only depends on a single set of variables with subscript j.\n",
      "\n",
      "$ln\\ L = \\Sigma_{i=1}^N ln\\ [\\Sigma_{j=1}^M\\alpha_j p_j(x_i|\\theta)]$ <br />\n",
      "\n",
      "Then they do a bunch of math that I didn't really feel like doing myself.  <br />\n",
      "And then they decide to switch back to the individual case of Gaussians to make the math simplify.  \n",
      "\n",
      "Anyway, the main point is that you end up with expressions for $\\mu_j$ and $\\sigma_j$ as a function of $p(j|x_i)$, and also use the Bayes theorem expression from above to compute $p(j|x_i)$ as a function of $\\mathcal{N}(\\mu_j,\\sigma_j)$.  If you begin with guesses for the parameters and then iterate through these two expressions, you'll usually converge to values $\\mu_j$ and $\\sigma_j$ that maximize the likelihood function.  Good choices of initial guesses are to set all $\\sigma_j$ to the sample standard deviation, all $\\alpha_j$ to $1/M$, and $\\mu_j$ by randomly sampling from ${x_i}$."
     ]
    },
    {
     "cell_type": "heading",
     "level": 4,
     "metadata": {},
     "source": [
      "Here is an example of the EM algorithm, figure 4.2 in the book."
     ]
    },
    {
     "cell_type": "code",
     "collapsed": false,
     "input": [
      "%pylab inline"
     ],
     "language": "python",
     "metadata": {},
     "outputs": [
      {
       "output_type": "stream",
       "stream": "stdout",
       "text": [
        "Populating the interactive namespace from numpy and matplotlib\n"
       ]
      }
     ],
     "prompt_number": 1
    },
    {
     "cell_type": "code",
     "collapsed": false,
     "input": [
      "from sklearn.mixture import GMM #Gaussian Mixture Model"
     ],
     "language": "python",
     "metadata": {},
     "outputs": [],
     "prompt_number": 2
    },
    {
     "cell_type": "code",
     "collapsed": false,
     "input": [
      "from astroML.plotting import setup_text_plots\n",
      "setup_text_plots(fontsize=8, usetex=True)"
     ],
     "language": "python",
     "metadata": {},
     "outputs": [],
     "prompt_number": 3
    },
    {
     "cell_type": "code",
     "collapsed": false,
     "input": [
      "np.random.seed(1)\n",
      "gmm=GMM(3,n_iter=1)  #gmm is now some weird function thing"
     ],
     "language": "python",
     "metadata": {},
     "outputs": [],
     "prompt_number": 4
    },
    {
     "cell_type": "code",
     "collapsed": false,
     "input": [
      "gmm #see?"
     ],
     "language": "python",
     "metadata": {},
     "outputs": [
      {
       "metadata": {},
       "output_type": "pyout",
       "prompt_number": 5,
       "text": [
        "GMM(covariance_type='diag', init_params='wmc', min_covar=0.001,\n",
        "  n_components=3, n_init=1, n_iter=1, params='wmc', random_state=None,\n",
        "  thresh=0.01)"
       ]
      }
     ],
     "prompt_number": 5
    },
    {
     "cell_type": "code",
     "collapsed": false,
     "input": [
      "gmm.means_ = np.array([[-1],[0],[3]]) #What does the underscore mean?\n",
      "gmm.covars_ = np.array([[1.5],[1],[0.5]])**2\n",
      "gmm.weights_ = np.array([[0.3,0.5,0.2]])\n",
      "\n",
      "X=gmm.sample(1000) #Now sample data from the distribution\n",
      "\n",
      "print gmm.means_\n",
      "print gmm.weights_\n",
      "#Why does these have reverse dimensions?"
     ],
     "language": "python",
     "metadata": {},
     "outputs": [
      {
       "output_type": "stream",
       "stream": "stdout",
       "text": [
        "[[-1]\n",
        " [ 0]\n",
        " [ 3]]\n",
        "[[ 0.3  0.5  0.2]]\n"
       ]
      }
     ],
     "prompt_number": 7
    },
    {
     "cell_type": "code",
     "collapsed": false,
     "input": [
      "#Now fit the data with a GMM model \n",
      "N=np.arange(1,11) #allow for up to 10 gaussian components\n",
      "models=[None for i in range(len(N))] #initialize set of models\n",
      "\n",
      "#Now compute best-fit models with 1,2,3,4...etc. components\n",
      "for i in range(len(N)):\n",
      "    models[i]=GMM(N[i]).fit(X)\n",
      "#Note that GMM(x).fit is performing the EM algorithm\n",
      "\n",
      "#Then computethe AIC and BIC of the models\n",
      "AIC = [m.aic(X) for m in models] #Akaike information criterion\n",
      "BIC = [m.bic(X) for m in models] #Bayesian information criterion"
     ],
     "language": "python",
     "metadata": {},
     "outputs": [],
     "prompt_number": 8
    },
    {
     "cell_type": "code",
     "collapsed": false,
     "input": [
      "#Now for some plots\n",
      "#Setup\n",
      "fig = plt.figure(figsize=(5,1.7))\n",
      "fig.subplots_adjust(left=0.12,right=0.97, \n",
      "                    bottom=0.21,top=0.9, wspace=0.5)\n",
      "\n",
      "#First plot: data + best-fit mixture\n",
      "ax = fig.add_subplot(131)\n",
      "M_best = models[np.argmin(AIC)] #Model with lowest AIC is best\n",
      "\n",
      "x=np.linspace(-6,6,1000)\n",
      "#Compute the log probability of X under the model and\n",
      "#return the posterior distribution (responsibilities) of each\n",
      "#mixture component for each element of X.\n",
      "logprob, responsibilities = M_best.score_samples(x)\n",
      "pdf = np.exp(logprob)\n",
      "pdf_individual = responsibilities*pdf[:,np.newaxis]\n",
      "\n",
      "ax.hist(X,30,normed=True, histtype='stepfilled', alpha=0.4)#Data\n",
      "ax.plot(x,pdf,'-k') #Combined pdf of model\n",
      "ax.plot(x,pdf_individual, '--k') #pdf of each gaussian comp.\n",
      "ax.text(0.04,0.96,\"Best-fit Mixture\",\n",
      "        ha='left', va='top', transform=ax.transAxes)\n",
      "ax.set_xlabel('$x$')\n",
      "ax.set_ylabel('$p(x)$')\n",
      "\n",
      "#2nd plot: AIC and BIC\n",
      "ax=fig.add_subplot(132)\n",
      "ax.plot(N,AIC, '-k', label='AIC')\n",
      "ax.plot(N,BIC, '--k', label='BIC')\n",
      "ax.set_xlabel('\\# of components')\n",
      "ax.set_ylabel('Information criterion')\n",
      "ax.legend(loc=2)\n",
      "\n",
      "#posterior probabilities for each component\n",
      "ax = fig.add_subplot(133)\n",
      "\n",
      "p = M_best.predict_proba(x)\n",
      "p = p[:, (1,0,2)] #Rearrange order so plot looks better\n",
      "p = p.cumsum(1).T\n",
      "\n",
      "ax.fill_between(x,0,p[0], color='gray', alpha=0.3)\n",
      "ax.fill_between(x,p[0],p[1], color='gray', alpha=0.5)\n",
      "ax.fill_between(x,p[1],1,color='gray',alpha=0.7)\n",
      "ax.set_xlim(-6,6)\n",
      "ax.set_ylim(0,1)\n",
      "ax.set_xlabel('$x$')\n",
      "ax.set_ylabel(r'$p({\\rm class}|x)$')\n",
      "\n",
      "ax.text(-5,0.3,'class 1', rotation='vertical')\n",
      "ax.text(0,0.5,'class 2', rotation='vertical')\n",
      "ax.text(3,0.3,'class 3', rotation='vertical')\n"
     ],
     "language": "python",
     "metadata": {},
     "outputs": [
      {
       "metadata": {},
       "output_type": "pyout",
       "prompt_number": 9,
       "text": [
        "<matplotlib.text.Text at 0x1075fdd50>"
       ]
      },
      {
       "metadata": {},
       "output_type": "display_data",
       "png": "[encoded data removed]",
       "text": [
        "<matplotlib.figure.Figure at 0x1072f3a10>"
       ]
      }
     ],
     "prompt_number": 9
    },
    {
     "cell_type": "markdown",
     "metadata": {},
     "source": [
      "How well did the model do?"
     ]
    },
    {
     "cell_type": "code",
     "collapsed": false,
     "input": [
      "print gmm.means_\n",
      "print M_best.means_\n",
      "#It got the number of components right, \n",
      "#and is in the ballpark of the means"
     ],
     "language": "python",
     "metadata": {},
     "outputs": [
      {
       "output_type": "stream",
       "stream": "stdout",
       "text": [
        "[[-1]\n",
        " [ 0]\n",
        " [ 3]]\n",
        "[[ 0.17827918]\n",
        " [ 2.85873886]\n",
        " [-1.08315069]]\n"
       ]
      }
     ],
     "prompt_number": 11
    },
    {
     "cell_type": "code",
     "collapsed": false,
     "input": [
      "#And here's a comparison of the weights\n",
      "print gmm.weights_\n",
      "print M_best.weights_"
     ],
     "language": "python",
     "metadata": {},
     "outputs": [
      {
       "output_type": "stream",
       "stream": "stdout",
       "text": [
        "[[ 0.3  0.5  0.2]]\n",
        "[ 0.43139915  0.19999963  0.36860122]\n"
       ]
      }
     ],
     "prompt_number": 13
    },
    {
     "cell_type": "markdown",
     "metadata": {},
     "source": [
      "This section ends with a discussion of how to change the algorithm if you have a measurement error $e$ on each $x_i$.  It goes through some math following the inclusion of this error, and then seems to say that EM algorithms fail, but then says they're still useful.  I didn't really get it. \n",
      "<br />\n",
      "\n",
      "Oh, and if you want to deal with mixtures that are not Gaussian just consult the \"abundant and easily accessible literature on the various froms of the EM algorithm.\" Obviously."
     ]
    },
    {
     "cell_type": "heading",
     "level": 3,
     "metadata": {},
     "source": [
      "Section 4.5 The bootstrap and jackknife"
     ]
    },
    {
     "cell_type": "markdown",
     "metadata": {},
     "source": [
      "The bootstrap and jackknife are non-parametric methods for determining confidence limits for estimated parameters.  In other words, they can be used when the shape of the distribution from which you're drawing $\\{x_i\\}$ is unknown. <br \\>\n",
      "The basic idea of the bootstrap is that you take your dataset of size $N$ and create $B$ new datasets of size $N$ by sampling from \n",
      "$\\{x_i\\}$ with replacement.  Then you can use the $B$ new datasets to estimate uncertainties in parameters. <br \\>\n",
      "There is also a parametric version of the bootstrap, where you sample data from the best-fit model. <br \\>\n",
      "<br \\>\n",
      "The book mentions that astronomers screw this up a lot, and references a paper by Tom Loredo, that I looked into to try to understand this better.  I didn't come out with a great understanding, but here's what I gathered: <br \\>\n",
      "The numerical recipes prescription for the bootstrap is wrong. <br \\>\n",
      "One should think carefully about whether to use a parametric or non-parametric boostrap  <br \\>\n",
      "The varaiability of derived parameters is not the same as the uncertainty in the derived parameters.  <br \\>\n",
      "The bootstrapped distribution over parameter space is not actually a pdf. <br \\>\n",
      "For linear models with Gaussian-distributed errors, the (flawed) approach will yield the correct result, but by accident.  <br \\>\n",
      "People who study exoplanet transits are the worst.\n"
     ]
    },
    {
     "cell_type": "markdown",
     "metadata": {},
     "source": [
      "Figure 4.3 shows a simple example of a bootstrap, demonstrating that for sampling from a Gaussian distribution, you get bootstrap estimates of uncertainties that are in line with computed estimates for Gaussian.  In particular, the distributions are computed for $\\sigma_s$ and $\\sigma_G$.\n",
      "\n",
      "Equation 3.35: $\\sigma_s$ or uncertainty of scale parameter (uncertainty of $\\sigma$ of Gaussian from which the data were drawn.)\n",
      "<br \\>\n",
      "Equation 3.36: Equation for computing the interquartile range $\\sigma_G = 0.7413 (q75-q25)$<br \\>\n",
      "Equation 3.37: Uncertainty for computing the uncertainty in any quantile (including $\\sigma_G$).\n",
      "\n",
      "I personally found this very frustrating because the discussion seemed to imply that it's difficult to estimate uncertainties for non-simple cases, and then they just show us a simple case where we already have analytical solutions for what we're looking for."
     ]
    },
    {
     "cell_type": "code",
     "collapsed": false,
     "input": [
      "#Setup\n",
      "from scipy.stats import norm\n",
      "from matplotlib import pyplot as plt\n",
      "\n",
      "from astroML.resample import bootstrap\n",
      "from astroML.stats import sigmaG\n",
      "\n",
      "from astroML.plotting import setup_text_plots\n",
      "setup_text_plots(fontsize=8, usetex=True)\n",
      "\n",
      "m = 1000  # number of points\n",
      "n = 10000  # number of bootstraps\n",
      "\n",
      "#------------------------------------------------------------\n",
      "# sample values from a normal distribution\n",
      "np.random.seed(123)\n",
      "data = norm(0, 1).rvs(m) #Returns m random variables from normal distribution with mean 0, sigma 1\n",
      "\n",
      "#------------------------------------------------------------\n",
      "# Compute bootstrap resamplings of data\n",
      "\n",
      "# Compute a set of n bootstrap samples from the dataset \"data\", and return the array of computed standard deviations \n",
      "mu1_bootstrap = bootstrap(data, n,  np.std, kwargs=dict(axis=1, ddof=1))\n",
      "# Compute a set of n bootstrap samples from the dataset \"data\", and return the array of computed sigmaG's\n",
      "mu2_bootstrap = bootstrap(data, n, sigmaG, kwargs=dict(axis=1))\n",
      "\n",
      "#------------------------------------------------------------\n",
      "# Compute the theoretical expectations for the two distributions\n",
      "x = np.linspace(0.8, 1.2, 1000)\n",
      "\n",
      "sigma1 = 1. / np.sqrt(2 * (m - 1))\n",
      "pdf1 = norm(1, sigma1).pdf(x)\n",
      "\n",
      "sigma2 = 1.06 / np.sqrt(m)\n",
      "pdf2 = norm(1, sigma2).pdf(x)\n",
      "\n",
      "#------------------------------------------------------------\n",
      "# Plot the results\n",
      "fig, ax = plt.subplots(figsize=(5, 3.75))\n",
      "\n",
      "ax.hist(mu1_bootstrap, bins=50, normed=True, histtype='step',\n",
      "        color='blue', ls='dashed', label=r'$\\sigma\\ {\\rm (std. dev.)}$')\n",
      "ax.plot(x, pdf1, color='gray')\n",
      "\n",
      "ax.hist(mu2_bootstrap, bins=50, normed=True, histtype='step',\n",
      "        color='red', label=r'$\\sigma_G\\ {\\rm (quartile)}$')\n",
      "ax.plot(x, pdf2, color='gray')\n",
      "\n",
      "ax.set_xlim(0.82, 1.18)\n",
      "\n",
      "ax.set_xlabel(r'$\\sigma$')\n",
      "ax.set_ylabel(r'$p(\\sigma|x,I)$')\n",
      "\n",
      "ax.legend()\n",
      "\n",
      "plt.show()"
     ],
     "language": "python",
     "metadata": {},
     "outputs": [
      {
       "metadata": {},
       "output_type": "display_data",
       "png": "[encoded data removed]",
       "text": [
        "<matplotlib.figure.Figure at 0x11607d150>"
       ]
      }
     ],
     "prompt_number": 18
    },
    {
     "cell_type": "heading",
     "level": 4,
     "metadata": {},
     "source": [
      "Okay, now the jackknife"
     ]
    },
    {
     "cell_type": "markdown",
     "metadata": {},
     "source": [
      "In the jackknife, you derive N samples of size N-1 by removing one point from each sample and then computing the desired statistic, $\\alpha$.  Then, there are formulae for computing the best jackknife estimate of $\\alpha$, called $\\alpha^J$, and its standard error $\\sigma_\\alpha$.  These formulae are functions of N, $\\alpha_N$ (the $\\alpha$ computed using the whole sample) and the full set of $\\alpha_i$ that are computed in the jackknife process. <br />\n",
      "Figure 4.4 shows a jackknife example, which demonstrates an important point - the jackknife is good at estimating uncertainties and at estimating \"smooth differential\" statistics, but not at estimating \"rank-based\" statistics, like median or quantiles."
     ]
    },
    {
     "cell_type": "code",
     "collapsed": false,
     "input": [
      "import numpy as np\n",
      "from scipy.stats import norm\n",
      "from matplotlib import pyplot as plt\n",
      "\n",
      "from astroML.plotting import setup_text_plots\n",
      "setup_text_plots(fontsize=8, usetex=True)\n",
      "\n",
      "#------------------------------------------------------------\n",
      "# sample values from a normal distribution\n",
      "np.random.seed(123)\n",
      "m = 1000  # number of points\n",
      "data = norm(0, 1).rvs(m) #The dataset comes from a normal distribution with mean 0, std 1\n",
      "\n",
      "#------------------------------------------------------------\n",
      "# Compute jackknife resamplings of data\n",
      "from astroML.resample import jackknife\n",
      "from astroML.stats import sigmaG\n",
      "\n",
      "# mu1 is the mean of the standard-deviation-based width\n",
      "#jacknife(your dataset, the statistic you want to calculate, keyword arguments to pass to np.std)\n",
      "#return_raw_distribution means it will return distribution the actual jackknife distribution.\n",
      "#jackknife returns the mean of the jk distribution, the sigma of the distribution, and (if set) \n",
      "#the distribution itself.\n",
      "\n",
      "#This is a computation of the best-fit standard deviation (np.std)\n",
      "mu1, sigma_mu1, mu1_raw = jackknife(data, np.std,\n",
      "                                    kwargs=dict(axis=1, ddof=1),\n",
      "                                    return_raw_distribution=True)\n",
      "\n",
      "pdf1_theory = norm(1, 1. / np.sqrt(2 * (m - 1)))\n",
      "pdf1_jackknife = norm(mu1, sigma_mu1)\n",
      "\n",
      "# mu2 is the mean of the interquartile-based width (sigmaG)\n",
      "#  WARNING: do not use the following in practice.  This example\n",
      "#           shows that jackknife fails for rank-based statistics.\n",
      "mu2, sigma_mu2, mu2_raw = jackknife(data, sigmaG,\n",
      "                                    kwargs=dict(axis=1),\n",
      "                                    return_raw_distribution=True)\n",
      "pdf2_theory = norm(data.std(), 1.06 / np.sqrt(m))\n",
      "pdf2_jackknife = norm(mu2, sigma_mu2)\n",
      "print mu2, sigma_mu2\n",
      "\n",
      "#------------------------------------------------------------\n",
      "# plot the results\n",
      "print \"mu_1 mean: %.2f +- %.2f\" % (mu1, sigma_mu1)\n",
      "print \"mu_2 mean: %.2f +- %.2f\" % (mu2, sigma_mu2)\n",
      "\n",
      "fig = plt.figure(figsize=(5, 2))\n",
      "fig.subplots_adjust(left=0.11, right=0.95, bottom=0.2, top=0.9,\n",
      "                    wspace=0.25)\n",
      "\n",
      "ax = fig.add_subplot(121)\n",
      "ax.hist(mu1_raw, np.linspace(0.996, 1.008, 100),\n",
      "        label=r'$\\sigma^*\\ {\\rm (std.\\ dev.)}$',\n",
      "        histtype='stepfilled', fc='white', normed=False)\n",
      "ax.hist(mu2_raw, np.linspace(0.996, 1.008, 100),\n",
      "        label=r'$\\sigma_G^*\\ {\\rm (quartile)}$',\n",
      "        histtype='stepfilled', fc='gray', normed=False)\n",
      "ax.legend(loc='upper left', handlelength=2)\n",
      "\n",
      "ax.xaxis.set_major_locator(plt.MultipleLocator(0.004))\n",
      "ax.set_xlabel(r'$\\sigma^*$')\n",
      "ax.set_ylabel(r'$N(\\sigma^*)$')\n",
      "ax.set_xlim(0.998, 1.008)\n",
      "ax.set_ylim(0, 550)\n",
      "\n",
      "ax = fig.add_subplot(122)\n",
      "x = np.linspace(0.45, 1.15, 1000)\n",
      "ax.plot(x, pdf1_jackknife.pdf(x),\n",
      "        color='blue', ls='dashed', label=r'$\\sigma\\ {\\rm (std.\\ dev.)}$',\n",
      "        zorder=2)\n",
      "ax.plot(x, pdf1_theory.pdf(x), color='gray', zorder=1)\n",
      "ax.plot(x, pdf2_jackknife.pdf(x),\n",
      "        color='red', label=r'$\\sigma_G\\ {\\rm (quartile)}$', zorder=2)\n",
      "ax.plot(x, pdf2_theory.pdf(x), color='gray', zorder=1)\n",
      "plt.legend(loc='upper left', handlelength=2)\n",
      "\n",
      "ax.set_xlabel(r'$\\sigma$')\n",
      "ax.set_ylabel(r'$p(\\sigma|x,I)$')\n",
      "ax.set_xlim(0.45, 1.15)\n",
      "ax.set_ylim(0, 24)\n",
      "\n",
      "plt.show()"
     ],
     "language": "python",
     "metadata": {},
     "outputs": [
      {
       "output_type": "stream",
       "stream": "stdout",
       "text": [
        "0.597747861969 0.0313531079465\n",
        "mu_1 mean: 1.00 +- 0.02\n",
        "mu_2 mean: 0.60 +- 0.03\n"
       ]
      },
      {
       "metadata": {},
       "output_type": "display_data",
       "png": "[encoded data removed]",
       "text": [
        "<matplotlib.figure.Figure at 0x1072f8910>"
       ]
      }
     ],
     "prompt_number": 14
    },
    {
     "cell_type": "markdown",
     "metadata": {},
     "source": [
      "Note above how the distribution used to compute the standard deviation is smooth, while that used to compute the interquartile range is not smooth.  This is because the removal of any point below q25, for example, will always return the same value of the statistic.   The result of this strange distribution is shown on the right.  The standard deviation value and uncertainty are similar to the analytic solutions.  However, while the uncertainty in $\\sigma_G$ is similar to the uncertainty in the analytic solution, its actual value is way off - it should be 1, but it's 0.6. <br \\>\n",
      "\n",
      "Some of the takeaways in this section seem to be:<br \\>\n",
      "Jackknife and bootstrap both have subtleties that you might want to better understand before using them.<br \\>\n",
      "Smooth statistics will behave better than rank-based statistics.<br \\>\n",
      "You might want to try both jackknife and bootstrap to get a sense for whether things are behaving."
     ]
    },
    {
     "cell_type": "heading",
     "level": 2,
     "metadata": {},
     "source": [
      "Section 4.6 Hypothesis testing"
     ]
    },
    {
     "cell_type": "markdown",
     "metadata": {},
     "source": [
      "Hypothesis testing is deciding whether some measured data are consistent with a hypothesis.  Often, we propose a null hypothesis, and then see whether we can reject the null hypothesis for our dataset.  As an example, they mention - suppose you want to decide whether a bright spot in an image is a source or background.  The null hypothesis would be - this data point comes from the background distribution.  If the actual data point is significantly different from the expectations from this background distribution, we might reject the null hypothesis.<br \\>\n",
      "<br \\>\n",
      "Some terminology.<br \\>\n",
      "The p value is the probability that we'd derive a value at least as large as $x_i$ given the null distribution.<br \\>\n",
      "Type I errors are false positives.  The null hypothesis is rejected, but that is not correct.  In our example, we think we've detected a source, but it is just noise.<br \\>\n",
      "Type II errors are false negatives.  The null hypothesis is false, but it is not rejected. In our example, there is a source there, but we can't distinguish it from noise.<br \\>\n",
      "The sigificance level $\\alpha$ is the probability of getting $x_i\\gtrsim x_{cutoff}$ assuming the null hypothesis.<br \\>\n",
      "In other words, $\\alpha=\\int_{x_c}^\\infty h(x) dx$ where h(x) is the distribution assuming the null hypothesis.\n"
     ]
    },
    {
     "cell_type": "markdown",
     "metadata": {},
     "source": [
      "An important point they make is that with multiple hypothesis testing, the fraction of false positives can exceed $\\alpha$."
     ]
    },
    {
     "cell_type": "code",
     "collapsed": false,
     "input": [
      "from scipy.stats import norm\n",
      "from matplotlib import pyplot as plt\n",
      "from astroML.plotting import setup_text_plots\n",
      "setup_text_plots(fontsize=8, usetex=True)\n",
      "\n",
      "x=np.linspace(0,200)\n",
      "\n",
      "a=0.1\n",
      "xc=120\n",
      "mu_s=150\n",
      "mu_b=100\n",
      "sigma_s=12\n",
      "sigma_b=10\n",
      "hs = a*norm(mu_s,sigma_s).pdf(x) #Returns m random variables from normal distribution with mean 0, sigma 1\n",
      "hb = (1-a)*norm(mu_b,sigma_b).pdf(x)\n",
      "h=hs+hb\n",
      "\n",
      "fig = plt.figure(figsize=(10, 4))\n",
      "fig.subplots_adjust(left=0.11, right=0.95, bottom=0.2, top=0.9,\n",
      "                    wspace=0.25)\n",
      "\n",
      "ax = fig.add_subplot(131)\n",
      "ax.set_xlim(60,180)\n",
      "ax.set_ylim(0,0.05)\n",
      "ax.plot(x,hs, linewidth=3)\n",
      "ax.plot(x,hb, linewidth=3)\n",
      "ax.plot(x,h, '--', linewidth=3)\n",
      "ax.set_xlabel('x')\n",
      "ax.plot([xc,xc], [0,1])\n",
      "\n",
      "ax = fig.add_subplot(132)\n",
      "ax.set_xlim(60,180)\n",
      "ax.set_ylim(0,0.01)\n",
      "ax.plot(x,hs, linewidth=3)\n",
      "ax.plot(x,hb, linewidth=3)\n",
      "ax.plot(x,h, '--', linewidth=3)\n",
      "ax.set_xlabel('x')\n",
      "ax.set_title('False positives')\n",
      "ax.plot([xc,xc], [0,1], linewidth=3)\n",
      "ax.fill_between(x[x>=120],0,hb[x>=120], color='gray', alpha=1)\n",
      "\n",
      "ax = fig.add_subplot(133)\n",
      "ax.set_xlim(60,180)\n",
      "ax.set_ylim(0,0.002)\n",
      "ax.plot(x,hs, linewidth=3)\n",
      "ax.plot(x,hb, linewidth=3)\n",
      "ax.plot(x,h, '--', linewidth=3)\n",
      "ax.set_xlabel('x')\n",
      "ax.set_title('False negatives')\n",
      "ax.plot([xc,xc], [0,1], linewidth=3)\n",
      "ax.fill_between(x[x<=120],0,hs[x<=120], color='gray', alpha=1)"
     ],
     "language": "python",
     "metadata": {},
     "outputs": [
      {
       "metadata": {},
       "output_type": "pyout",
       "prompt_number": 15,
       "text": [
        "<matplotlib.collections.PolyCollection at 0x1075c1490>"
       ]
      },
      {
       "metadata": {},
       "output_type": "display_data",
       "png": "[encoded data removed]",
       "text": [
        "<matplotlib.figure.Figure at 0x1076e0510>"
       ]
      }
     ],
     "prompt_number": 15
    },
    {
     "cell_type": "code",
     "collapsed": false,
     "input": [
      "a=0.1\n",
      "N=1e6\n",
      "alpha=(1-norm.cdf(xc,loc=mu_b, scale=sigma_b))"
     ],
     "language": "python",
     "metadata": {},
     "outputs": [],
     "prompt_number": 96
    },
    {
     "cell_type": "code",
     "collapsed": false,
     "input": [
      "alpha #My number seems to be slightly lower than theirs (0.024)"
     ],
     "language": "python",
     "metadata": {},
     "outputs": [
      {
       "metadata": {},
       "output_type": "pyout",
       "prompt_number": 97,
       "text": [
        "0.022750131948179209"
       ]
      }
     ],
     "prompt_number": 97
    },
    {
     "cell_type": "code",
     "collapsed": false,
     "input": [
      "nspurious=N*(1-a)*alpha  #number of false positive\n",
      "nspurious"
     ],
     "language": "python",
     "metadata": {},
     "outputs": [
      {
       "metadata": {},
       "output_type": "pyout",
       "prompt_number": 98,
       "text": [
        "20475.118753361287"
       ]
      }
     ],
     "prompt_number": 98
    },
    {
     "cell_type": "code",
     "collapsed": false,
     "input": [
      "nmissed=N*a*norm.cdf(xc, loc=mu_s, scale=sigma_s) #number of false negatives\n",
      "nmissed"
     ],
     "language": "python",
     "metadata": {},
     "outputs": [
      {
       "metadata": {},
       "output_type": "pyout",
       "prompt_number": 99,
       "text": [
        "620.96653257761318"
       ]
      }
     ],
     "prompt_number": 99
    },
    {
     "cell_type": "code",
     "collapsed": false,
     "input": [
      "nsource = N*a - nmissed + nspurious #Number classified as a source\n",
      "nsource"
     ],
     "language": "python",
     "metadata": {},
     "outputs": [
      {
       "metadata": {},
       "output_type": "pyout",
       "prompt_number": 100,
       "text": [
        "119854.15222078367"
       ]
      }
     ],
     "prompt_number": 100
    },
    {
     "cell_type": "code",
     "collapsed": false,
     "input": [
      "#completeness = (N*a-nmissed)/(N*a) #Na cancels so this equals (1-norm.cdf(xc, loc=mu_s, scale=sigma_s))\n",
      "#completeness\n",
      "completeness=1-norm.cdf(xc, loc=mu_s, scale=sigma_s)\n",
      "completeness"
     ],
     "language": "python",
     "metadata": {},
     "outputs": [
      {
       "metadata": {},
       "output_type": "pyout",
       "prompt_number": 107,
       "text": [
        "0.99379033467422384"
       ]
      }
     ],
     "prompt_number": 107
    },
    {
     "cell_type": "code",
     "collapsed": false,
     "input": [
      "contamination = nspurious / nsource #Depends on a!! If a is very small, then all sources will be spurious\n",
      "contamination"
     ],
     "language": "python",
     "metadata": {},
     "outputs": [
      {
       "metadata": {},
       "output_type": "pyout",
       "prompt_number": 102,
       "text": [
        "0.17083362047936407"
       ]
      }
     ],
     "prompt_number": 102
    },
    {
     "cell_type": "markdown",
     "metadata": {},
     "source": [
      "Notice that the contamination rate (17%) is much higher than $\\alpha$ (0.02)!"
     ]
    },
    {
     "cell_type": "markdown",
     "metadata": {},
     "source": [
      "We might ask - what is the optimal way to define $x_c$?  Below, I show what happens to completeness and contamination as a function of $x_c$."
     ]
    },
    {
     "cell_type": "code",
     "collapsed": false,
     "input": [
      "xc_list=np.arange(50,200)\n",
      "contamination_list=[]\n",
      "completeness_list=[]\n",
      "a=0.1\n",
      "N=1e6\n",
      "for i,xc in zip(np.arange(len(xc_list)), xc_list):\n",
      "    alpha=(1-norm.cdf(xc,loc=mu_b, scale=sigma_b))\n",
      "    nspurious=N*(1-a)*alpha  #number of false positive\n",
      "    nmissed=N*a*norm.cdf(xc, loc=mu_s, scale=sigma_s) #number of false negatives\n",
      "    nsource = N*a - nmissed + nspurious #Number classified as a source\n",
      "    completeness_list.append(1-norm.cdf(xc, loc=mu_s, scale=sigma_s))\n",
      "    contamination_list.append(nspurious / nsource) #Depends on a!! If a is very small, then all sources will be spurious\n",
      "\n",
      "completeness=np.array(completeness_list)\n",
      "contamination=np.array(contamination_list)\n",
      "    "
     ],
     "language": "python",
     "metadata": {},
     "outputs": [],
     "prompt_number": 16
    },
    {
     "cell_type": "markdown",
     "metadata": {},
     "source": [
      "Here is a plot of completeness and contamination vs. xc.  Note that you want to maximize\n",
      "completeness, but minimize contamination!"
     ]
    },
    {
     "cell_type": "code",
     "collapsed": false,
     "input": [
      "from astroML.plotting import setup_text_plots\n",
      "setup_text_plots(fontsize=8, usetex=True)\n",
      "\n",
      "fig = plt.figure(figsize=(10, 4))\n",
      "fig.subplots_adjust(left=0.11, right=0.95, bottom=0.2, top=0.9,\n",
      "                    wspace=0.25)\n",
      "    \n",
      "ax = fig.add_subplot(111)\n",
      "ax.plot(xc_list, completeness, label='completeness', linewidth=3)\n",
      "ax.plot(xc_list, contamination, label='contamination', linewidth=3)\n",
      "ax.set_xlabel('$x_c$', fontsize=20)\n",
      "for axis in ['top','bottom','left','right']:\n",
      "  ax.spines[axis].set_linewidth(4)\n",
      "ax.set_xlim(80,180)\n",
      "ax.legend(fontsize=20)"
     ],
     "language": "python",
     "metadata": {},
     "outputs": [
      {
       "metadata": {},
       "output_type": "pyout",
       "prompt_number": 180,
       "text": [
        "<matplotlib.legend.Legend at 0x11e83f690>"
       ]
      },
      {
       "metadata": {},
       "output_type": "display_data",
       "png": "[encoded data removed]",
       "text": [
        "<matplotlib.figure.Figure at 0x1210b9690>"
       ]
      }
     ],
     "prompt_number": 180
    },
    {
     "cell_type": "markdown",
     "metadata": {},
     "source": [
      "But this whole exercise assumes that we know a.  In practice, we usually don't know a.  A technique for dealing with this and finding the ideal value of $x_c$ is called the Benjamini and Hochberg method.  The requirements are that the data are described as $h(x) = (1-a)h_B (x)+ a h_S(x)$, and that $h_B$ is known. <br />\n",
      "Define $p_i = 1-H_B(x_i)$<br />\n",
      "and sort sample so that $p_i$ are increasing.<br />"
     ]
    },
    {
     "cell_type": "code",
     "collapsed": false,
     "input": [],
     "language": "python",
     "metadata": {},
     "outputs": []
    }
   ],
   "metadata": {}
  }
 ]
}