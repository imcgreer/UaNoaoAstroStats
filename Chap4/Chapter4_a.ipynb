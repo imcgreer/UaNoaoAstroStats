{
 "metadata": {
  "name": "",
  "signature": "sha256:739e97deaf454176d8ef476c0cdc37fc2d627290630218f50848eaf76a21b339"
 },
 "nbformat": 3,
 "nbformat_minor": 0,
 "worksheets": [
  {
   "cells": [
    {
     "cell_type": "heading",
     "level": 1,
     "metadata": {},
     "source": [
      "** Chapter 4 - Classical Statistical Inference **"
     ]
    },
    {
     "cell_type": "heading",
     "level": 2,
     "metadata": {},
     "source": [
      "**Maximum Likelihood Estimator (MLE)**"
     ]
    },
    {
     "cell_type": "markdown",
     "metadata": {},
     "source": [
      "** Likelihood: **\n",
      "    \n",
      "* First of data\n",
      "    \n",
      "    $L\\equiv p(\\{x_i\\}|M(\\theta)) = \\Pi_{i=1}^n p(x_i|M(\\theta))$\n",
      "    \n",
      "    Model M -- k parameters ($\\Theta$ is a vector of those parameters)\n",
      "    \n",
      "    ** Likelihood of data given the model. . . but isn't normalized, often use lnL **"
     ]
    },
    {
     "cell_type": "markdown",
     "metadata": {},
     "source": [
      "** Maximum Likelihood Approach **\n",
      "\n",
      "1. Formulate M(\\theta), p(D|M)\n",
      "2. search for best fit parameters that maximize p(D|M)\n",
      "3. Determine confidence intervals for those parameters\n",
      "4. Perform hypothesis tests to make other conclusions (maybe this comes later?)"
     ]
    },
    {
     "cell_type": "markdown",
     "metadata": {},
     "source": [
      "** Homoscedastic Gaussian Likelihood **\n",
      "\n",
      "(constant gaussian distribution for all error in the dataset)\n",
      "\n",
      "example: measuring the length of a rod (length $\\mu$) with a measurement error $\\sigma$:\n",
      "\n",
      "$L \\equiv p({x_i}|\\mu,\\sigma) = \\Pi_{i=1}^n \\frac{1}{\\sqrt{2\\pi}\\sigma}\\exp{\\frac{-(x_i - \\mu)^2}{2\\sigma}}$\n",
      "\n",
      "to maximize the likelihood--just take the derivative (w.r.t. \\mu) (here it is useful to use $\\ln L$ because it will always have the same maximum of L.\n",
      "\n",
      "$lnL(\\mu) = constant - \\Sigma_{i=1}^n\\frac{(x_i - \\mu)^2}{2\\sigma^2}$\n",
      "\n",
      "and you can show analytically that this is maximized when:\n",
      "\n",
      "$\\mu^0 = (1/N)\\Sigma_{i=1}^N x_i$ (the best fit is the average of the measurements)\n",
      "\n",
      "** ML Estimators **\n",
      "\n",
      "1. *consistent* -- converge given many measurements\n",
      "2. *asymptotically normal* -- approaches normal (centered on the MLE) with infinite data points\n",
      "3. achieve the \"Cramer-Rao\" bound -- \"best possible error given the data at hand\"\n",
      "\n",
      "** MLE Confidence Intervals **\n",
      "\n",
      "covariance matrix: $\\sigma_{jk} = (-\\frac{d^2 lnL}{d\\theta_j d\\theta_k}|_{\\theta=\\theta_0})^{-1/2}$\n",
      "\n",
      ". . . for gaussian errors:\n",
      "\n",
      "$\\sigma_\\mu = (-\\frac{d^2 lnL}{d\\mu^2}|_{\\mu_0})^{-1/2}$\n",
      "\n",
      "** MLE Heteroscedastic Gaussian Case **\n",
      "\n",
      "(different measurements have different errors)\n",
      "\n",
      "$lnL(\\mu) = constant - \\Pi_{i=1}^n\\frac{(x_i - \\mu)^2}{2\\sigma_{i}^2}$\n",
      "\n",
      "$\\mu^o = \\frac{\\Sigma_i^N w_i x_i}{\\Sigma_i^N w_i}$ (where $w_i = \\sigma^{-2}$)\n",
      "\n",
      "*  ** If errors are different, then the maximum likelihood value will be the Weighted mean**\n",
      "\n",
      "* Confidence interval:\n",
      "\n",
      "$\\sigma_{\\mu} = (\\Sigma_i^N \\frac{1}{\\sigma^2})^{-1/2} = (\\Sigma_i^N w_i)^{-1/2}$\n",
      "\n",
      "** If there is intrinsic variation ($\\sigma_o$) in the measured property in addition to measurement errors ($e_i$): **\n",
      "\n",
      "$\\sigma_i = \\sqrt{\\sigma_o^2+e_i^2}$"
     ]
    },
    {
     "cell_type": "markdown",
     "metadata": {},
     "source": [
      "** MLE for Truncated and Censored Data **\n",
      "\n",
      "(What happens when the measurements don't properly sample the full distribution of values?)\n",
      "\n",
      "*truncated* when the selection function (S(x)) goes to zero for some range of x\n",
      "\n",
      "*censored* when a measurement is attempted but the value is outside a given range (upper/lower limits) -- this comes later in the book\n",
      "\n",
      "* Truncated Example: S(x) = 1 for $x_{min}\\le x\\le x_{max}$ and S(x)=0 everywhere else\n",
      "\n",
      "$p(x_i|\\mu,\\sigma,x_{min},x_{max}) = C(\\mu,x_{min},x_{max})\\frac{1}{\\sqrt{2\\pi}\\sigma}\\exp{\\frac{-(x_i - \\mu)^2}{2\\sigma}}$\n",
      "\n",
      "$C(\\mu,\\sigma,x_{min},x_{max}) = (P(x_{max}|\\mu,\\sigma) - P(x_{min}|\\mu,\\sigma))^{-1}$\n",
      "\n",
      "** N.B. - $P(x_{max}|\\mu,\\sigma)$ is the CDF of $x_{max}$ **\n",
      "\n",
      "$lnL(\\mu) = constant - \\Sigma_{i=1}^n\\frac{(x_i - \\mu)^2}{2\\sigma^2} - N\\ln C(\\mu,\\sigma,x_{min},x_{max})$\n",
      "\n",
      "* Example: \n",
      "\n",
      "\"Karpathia\" is a country with high IQ scores (with no IQ scores < 120). Given that generally IQ scores follow a gaussian distribution (NOT centered on 100 in this case) with $\\sigma=15$. Given that you meet one student in Karpathia with an IQ score of $S_{IQ}$, what do you know about the mean IQ score in Karpathia?"
     ]
    },
    {
     "cell_type": "code",
     "collapsed": false,
     "input": [
      "%matplotlib inline\n",
      "\n",
      "import numpy as np\n",
      "from matplotlib import pyplot as plt\n"
     ],
     "language": "python",
     "metadata": {},
     "outputs": [],
     "prompt_number": 2
    },
    {
     "cell_type": "code",
     "collapsed": false,
     "input": [
      "IQs = np.random.normal(loc=100,scale=15,size=10000)\n",
      "IQs_2 = np.random.normal(loc=90,scale=15,size=10000)\n",
      "IQs_trunc = IQs_2[(IQs_2 >= 120)]\n",
      "\n",
      "print \"Mean of IQs_trunc: \", np.mean(IQs_trunc)\n",
      "ax = plt.hist(IQs,50,normed=1)\n",
      "ax = plt.hist(IQs_trunc,50,normed=1)"
     ],
     "language": "python",
     "metadata": {},
     "outputs": [
      {
       "output_type": "stream",
       "stream": "stdout",
       "text": [
        "Mean of IQs_trunc:  125.642146716\n"
       ]
      },
      {
       "metadata": {},
       "output_type": "display_data",
       "png": "[encoded data removed]",
       "text": [
        "<matplotlib.figure.Figure at 0x10658dc50>"
       ]
      }
     ],
     "prompt_number": 6
    },
    {
     "cell_type": "markdown",
     "metadata": {},
     "source": [
      "** Mean Integrated Square Error **\n",
      "\n",
      "* Cost Function -- How close is the empirical estimate f(x) to the true pdf h(x)?\n",
      "* MISE --> \"L2 norm\" minimizes the mean square\n",
      "* vs. L1 which minimizes the absolute deviation\n"
     ]
    },
    {
     "cell_type": "markdown",
     "metadata": {},
     "source": [
      "** Goodness of fit and model selection **\n",
      "\n",
      "-- comparing fits to different models.\n",
      "\n",
      "Now think of likelihood of model given data.\n",
      "\n",
      "Gaussian:\n",
      "\n",
      "$lnL = const - 1/2 \\Sigma_i^N z_i^2 = const - 1/2\\chi^2$ where $z_i = (x_i-\\mu)/sigma$\n",
      "\n",
      "For a good fit $\\chi^2_{dof} = 1/(N-k)\\Sigma_i^N z_i^2 \\approx 1$"
     ]
    },
    {
     "cell_type": "markdown",
     "metadata": {},
     "source": [
      "**Example from the book -- Luminosities are simulated with Gaussian errors**\n",
      "\n",
      "(a) a model predicts the right luminosity and errors - $\\chi^2_{dof}\\approx1$\n",
      "(b) a model predicts the right luminosity but errors are overpredicted - $\\chi^2_{dof}< 1$\n",
      "(c) a model predicts the right luminosity but errors are underpredicted - $\\chi^2_{dof}> 1$\n",
      "(d) a model predicts the incorrect luminosity but errors are accurate - $\\chi^2_{dof}> 1$"
     ]
    },
    {
     "cell_type": "code",
     "collapsed": false,
     "input": [
      "#------------------------------------------------------------\n",
      "# Generate Dataset\n",
      "np.random.seed(2)\n",
      "\n",
      "N = 50\n",
      "L0 = 10\n",
      "dL = 0.2\n",
      "\n",
      "t = np.linspace(0, 1, N)\n",
      "L_obs = np.random.normal(L0, dL, N)\n",
      "\n",
      "#------------------------------------------------------------\n",
      "# Plot the results\n",
      "fig = plt.figure(figsize=(5, 5))\n",
      "fig.subplots_adjust(left=0.1, right=0.95, wspace=0.05,\n",
      "                    bottom=0.1, top=0.95, hspace=0.05)\n",
      "\n",
      "y_vals = [L_obs, L_obs, L_obs, L_obs + 0.5 - t ** 2]\n",
      "y_errs = [dL, dL * 2, dL / 2, dL]\n",
      "titles = ['correct errors',\n",
      "          'overestimated errors',\n",
      "          'underestimated errors',\n",
      "          'incorrect model']\n",
      "\n",
      "for i in range(4):\n",
      "    ax = fig.add_subplot(2, 2, 1 + i, xticks=[])\n",
      "\n",
      "    # compute the mean and the chi^2/dof\n",
      "    mu = np.mean(y_vals[i])\n",
      "    z = (y_vals[i] - mu) / y_errs[i]\n",
      "    chi2 = np.sum(z ** 2)\n",
      "    chi2dof = chi2 / (N - 1)\n",
      "\n",
      "    # compute the standard deviations of chi^2/dof\n",
      "    sigma = np.sqrt(2. / (N - 1))\n",
      "    nsig = (chi2dof - 1) / sigma\n",
      "\n",
      "    # plot the points with errorbars\n",
      "    ax.errorbar(t, y_vals[i], y_errs[i], fmt='.k', ecolor='gray', lw=1)\n",
      "    ax.plot([-0.1, 1.3], [L0, L0], ':k', lw=1)\n",
      "\n",
      "    # Add labels and text\n",
      "    ax.text(0.95, 0.95, titles[i], ha='right', va='top',\n",
      "            transform=ax.transAxes,\n",
      "            bbox=dict(boxstyle='round', fc='w', ec='k'))\n",
      "    ax.text(0.02, 0.02, r'$\\hat{\\mu} = %.2f$' % mu, ha='left', va='bottom',\n",
      "            transform=ax.transAxes)\n",
      "    ax.text(0.98, 0.02,\n",
      "            r'$\\chi^2_{\\rm dof} = %.2f\\, (%.2g\\,\\sigma)$' % (chi2dof, nsig),\n",
      "            ha='right', va='bottom', transform=ax.transAxes)\n",
      "\n",
      "    # set axis limits\n",
      "    ax.set_xlim(-0.05, 1.05)\n",
      "    ax.set_ylim(8.6, 11.4)\n",
      "\n",
      "    # set ticks and labels\n",
      "    ax.yaxis.set_major_locator(plt.MultipleLocator(1))\n",
      "\n",
      "    if i > 1:\n",
      "        ax.set_xlabel('observations')\n",
      "\n",
      "    if i % 2 == 0:\n",
      "        ax.set_ylabel('Luminosity')\n",
      "    else:\n",
      "        ax.yaxis.set_major_formatter(plt.NullFormatter())\n",
      "\n",
      "plt.show()"
     ],
     "language": "python",
     "metadata": {},
     "outputs": [
      {
       "metadata": {},
       "output_type": "display_data",
       "png": "[encoded data removed]",
       "text": [
        "<matplotlib.figure.Figure at 0x106343790>"
       ]
      }
     ],
     "prompt_number": 8
    },
    {
     "cell_type": "markdown",
     "metadata": {},
     "source": [
      "** Comparing multiple models **\n",
      "\n",
      "* Given $L^o(M)$ for a number of models it isn't the case that the model with the maximum likelihood is the *best* -- different models may have varying numbers of free parameters -- penalize for unnecessary parameters.\n",
      "\n",
      "One option = \"Aikake information criterion\" (AIC):\n",
      "\n",
      "$AIC \\equiv -2\\ln(L^o(M)) + 2k + \\frac{2k(k+1)}{N-k-1}$\n",
      "\n",
      "k = number of parameters, N = number of data points\n",
      "\n",
      "Given two models with equal likelihoods, the one with fewer parameters is better."
     ]
    },
    {
     "cell_type": "markdown",
     "metadata": {},
     "source": [
      "----------------------------- we stopped here basically ---------------------------------\n",
      "\n",
      "** Gaussian Mixtures: Expectation Maximization **\n",
      "    \n",
      "for given datum $x_i$ (based on a number of parameters, which all follow gaussians)--\n",
      "\n",
      "$p(x_i|\\mathbf{\\theta})$ = \\Sigma_{j=1}^{M}\\alpha_j \\N(\\mu_j,\\sigma_j)$\n",
      "\n",
      "for that pdf to be normalized $\\Sigma\\alpha_j = 1$ and the log likelihood for a dataset:\n",
      "\n",
      "$lnL = \\Sigma_{i=1}^N \\ln \\left[\\Sigma_{j=1}^{M}\\alpha_j N(\\mu_j,\\sigma_j)\\right]$\n",
      "\n",
      ". . . which you can no longer easily take partial derivatives w.r.t. each parameter\n",
      "\n",
      "* If the different gaussians just represent different subsamples \"classes\" of variables such that each piece of data is only produced by one of the gaussian distributions, then it becomes easier. But those \"Class Labels\" are unknown. The probability of a given class label can be assigned as:\n",
      "\n",
      "$p(j|x_i) = \\frac{\\alpha_j N(\\mu_j,\\sigma_j)}{\\Sigma_{j=1}^{M}\\alpha_j N(\\mu_j,\\sigma_j)}$"
     ]
    },
    {
     "cell_type": "code",
     "collapsed": false,
     "input": [],
     "language": "python",
     "metadata": {},
     "outputs": []
    }
   ],
   "metadata": {}
  }
 ]
}